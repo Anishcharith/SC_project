{
 "cells": [
  {
   "cell_type": "markdown",
   "metadata": {},
   "source": [
    "# Principal Component Analysis"
   ]
  },
  {
   "cell_type": "code",
   "execution_count": 1,
   "metadata": {
    "collapsed": false
   },
   "outputs": [],
   "source": [
    "import numpy as np\n",
    "import pandas as pd\n",
    "#from sklearn.decomposition import PCA"
   ]
  },
  {
   "cell_type": "markdown",
   "metadata": {},
   "source": [
    "## Load data"
   ]
  },
  {
   "cell_type": "code",
   "execution_count": 2,
   "metadata": {
    "collapsed": false
   },
   "outputs": [],
   "source": [
    "path = \"Temp/\"\n",
    "\n",
    "x_data = np.load(path+\"x_data.npy\")\n",
    "y_data = np.load(path+\"y_data.npy\")\n",
    "\n",
    "features = [\"DATE\", \"COUNT\", \"ACT-COUNT\", \"WEIGHT\", \"STREN\", \"TM\", \"LL\", \"CPI\", \"WPI\", \"L\", \"W\"]"
   ]
  },
  {
   "cell_type": "markdown",
   "metadata": {},
   "source": [
    "## Find Covariance Matrix"
   ]
  },
  {
   "cell_type": "code",
   "execution_count": 3,
   "metadata": {
    "collapsed": false
   },
   "outputs": [],
   "source": [
    "mean_vec = np.mean(x_data, axis=0)\n",
    "x_c = x_data - mean_vec\n",
    "\n",
    "cov_mat = (x_data - mean_vec).T.dot((x_data - mean_vec)) / (x_data.shape[0]-1)"
   ]
  },
  {
   "cell_type": "markdown",
   "metadata": {},
   "source": [
    "## Find eigenvectors and eigenvalues"
   ]
  },
  {
   "cell_type": "code",
   "execution_count": 4,
   "metadata": {
    "collapsed": false
   },
   "outputs": [
    {
     "name": "stdout",
     "output_type": "stream",
     "text": [
      "     Features          DATE         COUNT     ACT-COUNT        WEIGHT  \\\n",
      "0        DATE  8.517637e-02 -1.390476e-02 -1.784355e-17 -1.363757e-17   \n",
      "1       COUNT -1.390476e-02  1.000018e+00  3.670672e-17 -1.705333e-16   \n",
      "2   ACT-COUNT -1.784355e-17  3.670672e-17  1.000018e+00  1.000018e+00   \n",
      "3      WEIGHT -1.363757e-17 -1.705333e-16  1.000018e+00  1.000018e+00   \n",
      "4       STREN  1.078807e-02  1.045683e-01 -8.523479e-18 -9.861745e-18   \n",
      "5          TM  1.563812e-02  6.726321e-03  2.580941e-18  1.414738e-17   \n",
      "6          LL -3.798061e-02  8.386437e-01  4.053034e-17 -7.672725e-17   \n",
      "7         CPI  3.048946e-04 -9.773631e-01 -2.549078e-19  2.396133e-17   \n",
      "8         WPI -1.133426e-02 -8.930018e-02 -1.053486e-17  1.499973e-17   \n",
      "9           L  1.064189e-02  1.083306e-01 -8.591747e-16 -8.940891e-16   \n",
      "10          W  1.093050e-02  1.007826e-01  1.754722e-15  1.753670e-15   \n",
      "\n",
      "           STREN            TM            LL           CPI           WPI  \\\n",
      "0   1.078807e-02  1.563812e-02 -3.798061e-02  3.048946e-04 -1.133426e-02   \n",
      "1   1.045683e-01  6.726321e-03  8.386437e-01 -9.773631e-01 -8.930018e-02   \n",
      "2   3.100316e-17  2.580941e-18  4.053034e-17 -2.549078e-19 -1.053486e-17   \n",
      "3   1.942079e-17  1.414738e-17 -7.672725e-17  2.396133e-17  1.499973e-17   \n",
      "4   1.000018e+00 -2.777543e-01  1.334598e-02 -1.059789e-01 -9.993535e-01   \n",
      "5  -2.777543e-01  1.000018e+00  1.541502e-01  8.239711e-02  2.782702e-01   \n",
      "6   1.334598e-02  1.541502e-01  1.000018e+00 -8.073190e-01  8.832154e-04   \n",
      "7  -1.059789e-01  8.239711e-02 -8.073190e-01  1.000018e+00  9.108526e-02   \n",
      "8  -9.993535e-01  2.782702e-01  8.832154e-04  9.108526e-02  1.000018e+00   \n",
      "9   9.999774e-01 -2.775768e-01  1.687235e-02 -1.096473e-01 -9.989852e-01   \n",
      "10  9.999770e-01 -2.779127e-01  9.805836e-03 -1.022871e-01 -9.996422e-01   \n",
      "\n",
      "               L             W  \n",
      "0   1.064189e-02  1.093050e-02  \n",
      "1   1.083306e-01  1.007826e-01  \n",
      "2  -8.591747e-16  1.785940e-15  \n",
      "3  -8.940891e-16  1.752101e-15  \n",
      "4   9.999774e-01  9.999770e-01  \n",
      "5  -2.775768e-01 -2.779127e-01  \n",
      "6   1.687235e-02  9.805836e-03  \n",
      "7  -1.096473e-01 -1.022871e-01  \n",
      "8  -9.989852e-01 -9.996422e-01  \n",
      "9   1.000018e+00  9.998551e-01  \n",
      "10  9.998551e-01  1.000018e+00  \n"
     ]
    }
   ],
   "source": [
    "cov_df = pd.DataFrame(cov_mat, columns=features)\n",
    "cov_df.insert(0, \"Features\", features)\n",
    "print(cov_df)"
   ]
  },
  {
   "cell_type": "code",
   "execution_count": 5,
   "metadata": {
    "collapsed": false
   },
   "outputs": [
    {
     "name": "stdout",
     "output_type": "stream",
     "text": [
      "Eigenvectors \n",
      "[[  3.61479181e-03   1.20218683e-02  -1.79934696e-02   2.37753294e-01\n",
      "    9.59885212e-01   1.46994578e-01   2.40397030e-17   2.23099705e-03\n",
      "    1.03555419e-04  -1.95574285e-08  -4.55565630e-13]\n",
      " [  1.13793752e-01  -5.78861462e-01   4.92690524e-02   3.40443923e-01\n",
      "   -1.84773310e-01   7.06674001e-01  -5.35684569e-16  -1.05624207e-02\n",
      "   -1.42719717e-05   4.96487143e-07   1.00520607e-11]\n",
      " [  2.71274901e-16   2.34007690e-16   2.16940596e-16  -6.43119444e-17\n",
      "   -7.21007636e-17   4.15292652e-15  -7.07106781e-01   1.00836783e-13\n",
      "    1.84435393e-10   7.72365027e-06  -7.07106781e-01]\n",
      " [  2.15787915e-16   2.67652128e-16   9.43221045e-17   1.85774253e-16\n",
      "    6.21253607e-17  -4.05925168e-15  -7.07106781e-01  -1.00342676e-13\n",
      "   -1.84433503e-10  -7.72365027e-06   7.07106781e-01]\n",
      " [  4.85190395e-01   7.62130411e-02  -9.28760723e-02  -5.53186821e-03\n",
      "   -3.23074309e-03  -3.39685809e-03   1.43762515e-16   2.68413116e-01\n",
      "   -2.35722666e-01  -7.88981961e-01  -1.59670856e-05]\n",
      " [ -1.71247716e-01  -7.57273130e-02  -9.61943050e-01   1.80215596e-01\n",
      "   -5.07450279e-02  -6.74702370e-02  -2.50561946e-16   4.59088671e-04\n",
      "    7.51968429e-06  -1.10682966e-08  -2.27468167e-13]\n",
      " [  5.81452959e-02  -5.56600129e-01  -1.24425608e-01  -7.93216819e-01\n",
      "    2.04142749e-01  -2.11694319e-02  -4.44628090e-16  -4.28495535e-03\n",
      "   -9.89656108e-06   6.91926448e-08   1.40516028e-12]\n",
      " [ -1.17772070e-01   5.69641162e-01  -1.47699671e-01  -4.07163167e-01\n",
      "   -1.40244447e-02   6.88363951e-01   2.38063147e-16   1.85541127e-04\n",
      "   -3.47313234e-06   2.10441252e-09   4.04157612e-14]\n",
      " [ -4.84015197e-01  -8.54929975e-02   9.34948648e-02   5.18932614e-03\n",
      "   -1.31513897e-04   1.08475086e-02  -2.67749211e-16   8.02687485e-01\n",
      "   -3.20231979e-01   5.17553197e-02   1.04759318e-06]\n",
      " [  4.85382571e-01   7.38974420e-02  -9.26964859e-02  -5.64503569e-03\n",
      "   -4.15645579e-03  -1.56194671e-03   1.26867712e-15   5.32450866e-01\n",
      "    6.05281759e-01   3.16904994e-01   6.41310011e-06]\n",
      " [  4.84958070e-01   7.85314362e-02  -9.30459374e-02  -5.42976664e-03\n",
      "   -2.33833323e-03  -5.24373362e-03  -1.30504107e-15   2.85096349e-03\n",
      "   -6.89579789e-01   5.23832107e-01   1.06015749e-05]]\n",
      "\n",
      "Eigenvalues \n",
      "[  4.14678506e+00   2.71491535e+00   9.25063019e-01   2.02311409e-01\n",
      "   7.88368318e-02   1.64604785e-02   2.00003588e+00   9.47611630e-04\n",
      "   1.12328475e-07   1.76062569e-12   1.87179735e-15]\n"
     ]
    }
   ],
   "source": [
    "\n",
    "eig_vals, eig_vecs = np.linalg.eig(cov_mat)\n",
    "print('Eigenvectors \\n%s' %eig_vecs)\n",
    "print('\\nEigenvalues \\n%s' %eig_vals)"
   ]
  },
  {
   "cell_type": "markdown",
   "metadata": {},
   "source": [
    "## Explained variance of each eigenvector "
   ]
  },
  {
   "cell_type": "code",
   "execution_count": 6,
   "metadata": {
    "collapsed": false
   },
   "outputs": [
    {
     "name": "stdout",
     "output_type": "stream",
     "text": [
      "[41.116894285080299, 26.919381083120818, 19.831089018500776, 9.1723390144078092, 2.0059917957292352, 0.7816960928679072, 0.16321167974576797, 0.0093959167518995728, 1.1137780120513422e-06, 1.7457249289841604e-11, 1.8559556974456103e-14]\n"
     ]
    }
   ],
   "source": [
    "total = sum(eig_vals)\n",
    "var_exp = [(i / total)*100 for i in sorted(eig_vals, reverse=True)]\n",
    "print(var_exp)"
   ]
  },
  {
   "cell_type": "code",
   "execution_count": 7,
   "metadata": {
    "collapsed": false
   },
   "outputs": [],
   "source": [
    "import matplotlib.pyplot as plt\n",
    "%matplotlib inline\n"
   ]
  },
  {
   "cell_type": "code",
   "execution_count": 8,
   "metadata": {
    "collapsed": false,
    "scrolled": true
   },
   "outputs": [
    {
     "data": {
      "text/plain": [
       "<BarContainer object of 11 artists>"
      ]
     },
     "execution_count": 8,
     "metadata": {},
     "output_type": "execute_result"
    },
    {
     "data": {
      "image/png": "[encoded data removed]",
      "text/plain": [
       "<Figure size 432x288 with 1 Axes>"
      ]
     },
     "metadata": {},
     "output_type": "display_data"
    }
   ],
   "source": [
    "x = [\"PC-{}\".format(i) for i in range(1, len(eig_vals)+1)]\n",
    "plt.title(\"Most Important Principal Components\")\n",
    "plt.bar(x, var_exp)"
   ]
  },
  {
   "cell_type": "code",
   "execution_count": 9,
   "metadata": {
    "collapsed": false
   },
   "outputs": [
    {
     "data": {
      "text/plain": [
       "<Figure size 432x288 with 0 Axes>"
      ]
     },
     "metadata": {},
     "output_type": "display_data"
    }
   ],
   "source": [
    "plt.savefig(\"PCA.png\")"
   ]
  },
  {
   "cell_type": "markdown",
   "metadata": {
    "collapsed": true
   },
   "source": [
    "## Contribution of each feature to every principal component"
   ]
  },
  {
   "cell_type": "code",
   "execution_count": 20,
   "metadata": {
    "collapsed": false
   },
   "outputs": [],
   "source": [
    "loadings = eig_vecs.T/ np.sqrt(eig_vals.T)\n",
    "\n",
    "loadings_df = pd.DataFrame(loadings, columns=x)\n",
    "loadings_df.insert(0, \"\", features)\n"
   ]
  },
  {
   "cell_type": "code",
   "execution_count": 33,
   "metadata": {
    "collapsed": false
   },
   "outputs": [
    {
     "name": "stdout",
     "output_type": "stream",
     "text": [
      "Major contributor to PC-1 is STREN\n",
      "Major contributor to PC-2 is TM\n",
      "Major contributor to PC-3 is L\n",
      "Major contributor to PC-4 is W\n",
      "Major contributor to PC-5 is DATE\n",
      "Major contributor to PC-6 is WEIGHT\n",
      "Major contributor to PC-7 is STREN\n",
      "Major contributor to PC-8 is TM\n",
      "Major contributor to PC-9 is CPI\n",
      "Major contributor to PC-10 is WPI\n",
      "Major contributor to PC-11 is L\n"
     ]
    }
   ],
   "source": [
    "for column in loadings_df.columns:\n",
    "    if column!=\"\":\n",
    "        print(\"Major contributor to {0} is {1}\".format(column, loadings_df.iloc[loadings_df[column].idxmax(),0]))"
   ]
  },
  {
   "cell_type": "markdown",
   "metadata": {},
   "source": [
    "This is clear from the value of the loadings for every Principal Component. Note that in the first column, \"STREN\" has the maximum value"
   ]
  },
  {
   "cell_type": "code",
   "execution_count": 21,
   "metadata": {
    "collapsed": false
   },
   "outputs": [
    {
     "name": "stdout",
     "output_type": "stream",
     "text": [
      "                       PC-1          PC-2          PC-3          PC-4  \\\n",
      "0        DATE  1.775119e-03  6.906218e-02  2.820486e-16  4.797522e-16   \n",
      "1       COUNT  5.903590e-03 -3.513148e-01  2.433013e-16  5.950597e-16   \n",
      "2   ACT-COUNT -8.836070e-03  2.990171e-02  2.255564e-16  2.097023e-16   \n",
      "3      WEIGHT  1.167537e-01  2.066177e-01 -6.686610e-17  4.130240e-16   \n",
      "4       STREN  4.713717e-01 -1.121401e-01 -7.496425e-17  1.381207e-16   \n",
      "5          TM  7.218477e-02  4.288851e-01  4.317860e-15 -9.024763e-15   \n",
      "6          LL  1.180520e-17 -3.251105e-16 -7.351896e-01 -1.572081e+00   \n",
      "7         CPI  1.095578e-03 -6.410403e-03  1.048415e-13 -2.230876e-13   \n",
      "8         WPI  5.085306e-05 -8.661754e-06  1.917603e-10 -4.100432e-10   \n",
      "9           L -9.604085e-09  3.013213e-07  8.030396e-06 -1.717167e-05   \n",
      "10          W -2.237150e-13  6.100662e-12 -7.351896e-01  1.572081e+00   \n",
      "\n",
      "            PC-5          PC-6  \n",
      "0   1.728015e+00 -1.334761e+00  \n",
      "1   2.714343e-01 -5.902436e-01  \n",
      "2  -3.307800e-01 -7.497701e+00  \n",
      "3  -1.970186e-02  1.404660e+00  \n",
      "4  -1.150636e-02 -3.955235e-01  \n",
      "5  -1.209798e-02 -5.258853e-01  \n",
      "6   5.120131e-16 -1.952962e-15  \n",
      "7   9.559587e-01  3.578288e-03  \n",
      "8  -8.395310e-01  5.861090e-05  \n",
      "9  -2.809975e+00 -8.626995e-08  \n",
      "10 -5.686710e-05 -1.772962e-12  \n"
     ]
    }
   ],
   "source": [
    "print(loadings_df.iloc[:,:7])"
   ]
  },
  {
   "cell_type": "markdown",
   "metadata": {},
   "source": [
    "## Descending order of contribution for each principal component"
   ]
  },
  {
   "cell_type": "code",
   "execution_count": 57,
   "metadata": {
    "collapsed": false
   },
   "outputs": [
    {
     "name": "stdout",
     "output_type": "stream",
     "text": [
      "         PC-1       PC-2       PC-3       PC-4       PC-5       PC-6  \\\n",
      "0       STREN         TM          L          W       DATE     WEIGHT   \n",
      "1      WEIGHT     WEIGHT        WPI      COUNT        CPI        CPI   \n",
      "2          TM       DATE        CPI       DATE      COUNT        WPI   \n",
      "3       COUNT  ACT-COUNT         TM     WEIGHT         LL         LL   \n",
      "4        DATE          L       DATE  ACT-COUNT          W          W   \n",
      "5         CPI          W      COUNT      STREN      STREN          L   \n",
      "6         WPI         LL  ACT-COUNT         TM         TM      STREN   \n",
      "7          LL        WPI     WEIGHT        CPI     WEIGHT         TM   \n",
      "8           W        CPI      STREN        WPI  ACT-COUNT      COUNT   \n",
      "9           L      STREN          W          L        WPI       DATE   \n",
      "10  ACT-COUNT      COUNT         LL         LL          L  ACT-COUNT   \n",
      "\n",
      "         PC-7       PC-8       PC-9      PC-10      PC-11  \n",
      "0       STREN         TM        CPI        WPI          L  \n",
      "1        DATE      COUNT  ACT-COUNT        CPI       DATE  \n",
      "2           L        CPI          L       DATE      COUNT  \n",
      "3           W          L         TM          L        CPI  \n",
      "4          LL          W     WEIGHT      COUNT          W  \n",
      "5         WPI         LL          W          W         LL  \n",
      "6         CPI        WPI         LL         LL      STREN  \n",
      "7          TM      STREN      STREN         TM         TM  \n",
      "8   ACT-COUNT       DATE      COUNT      STREN     WEIGHT  \n",
      "9       COUNT  ACT-COUNT        WPI     WEIGHT  ACT-COUNT  \n",
      "10     WEIGHT     WEIGHT       DATE  ACT-COUNT        WPI  \n"
     ]
    }
   ],
   "source": [
    "data = []\n",
    "\n",
    "for column in loadings_df.columns[1:]:\n",
    "    data.append(loadings_df.sort_values(by=[column], ascending=False).iloc[:,0].values)\n",
    "\n",
    "df = pd.DataFrame(np.asarray(data).T, columns=loadings_df.columns[1:])\n",
    "print(df)"
   ]
  },
  {
   "cell_type": "code",
   "execution_count": 42,
   "metadata": {
    "collapsed": false
   },
   "outputs": [
    {
     "data": {
      "text/html": [
       "<div>\n",
       "<style>\n",
       "    .dataframe thead tr:only-child th {\n",
       "        text-align: right;\n",
       "    }\n",
       "\n",
       "    .dataframe thead th {\n",
       "        text-align: left;\n",
       "    }\n",
       "\n",
       "    .dataframe tbody tr th {\n",
       "        vertical-align: top;\n",
       "    }\n",
       "</style>\n",
       "<table border=\"1\" class=\"dataframe\">\n",
       "  <thead>\n",
       "    <tr style=\"text-align: right;\">\n",
       "      <th></th>\n",
       "      <th>DATE</th>\n",
       "      <th>COUNT</th>\n",
       "      <th>ACT-COUNT</th>\n",
       "      <th>WEIGHT</th>\n",
       "      <th>STREN</th>\n",
       "      <th>TM</th>\n",
       "      <th>LL</th>\n",
       "      <th>CPI</th>\n",
       "      <th>WPI</th>\n",
       "      <th>L</th>\n",
       "      <th>W</th>\n",
       "    </tr>\n",
       "  </thead>\n",
       "  <tbody>\n",
       "    <tr>\n",
       "      <th>0</th>\n",
       "      <td>0.0</td>\n",
       "      <td>1.124259</td>\n",
       "      <td>-1.414214</td>\n",
       "      <td>-1.414214</td>\n",
       "      <td>-0.975976</td>\n",
       "      <td>0.334026</td>\n",
       "      <td>1.541182</td>\n",
       "      <td>-1.097852</td>\n",
       "      <td>0.975999</td>\n",
       "      <td>-0.975503</td>\n",
       "      <td>-0.976264</td>\n",
       "    </tr>\n",
       "    <tr>\n",
       "      <th>1</th>\n",
       "      <td>0.0</td>\n",
       "      <td>1.124259</td>\n",
       "      <td>-1.414214</td>\n",
       "      <td>-1.414214</td>\n",
       "      <td>-1.940037</td>\n",
       "      <td>0.639074</td>\n",
       "      <td>1.950932</td>\n",
       "      <td>-1.096988</td>\n",
       "      <td>1.981780</td>\n",
       "      <td>-1.928919</td>\n",
       "      <td>-1.950891</td>\n",
       "    </tr>\n",
       "    <tr>\n",
       "      <th>2</th>\n",
       "      <td>0.0</td>\n",
       "      <td>1.124259</td>\n",
       "      <td>-1.414214</td>\n",
       "      <td>-1.414214</td>\n",
       "      <td>1.953164</td>\n",
       "      <td>-0.542989</td>\n",
       "      <td>1.654835</td>\n",
       "      <td>-1.100370</td>\n",
       "      <td>-1.915625</td>\n",
       "      <td>1.961819</td>\n",
       "      <td>1.944216</td>\n",
       "    </tr>\n",
       "    <tr>\n",
       "      <th>3</th>\n",
       "      <td>0.0</td>\n",
       "      <td>1.124259</td>\n",
       "      <td>-1.414214</td>\n",
       "      <td>-1.414214</td>\n",
       "      <td>-0.975976</td>\n",
       "      <td>0.334026</td>\n",
       "      <td>2.118261</td>\n",
       "      <td>-1.097852</td>\n",
       "      <td>0.975999</td>\n",
       "      <td>-0.975503</td>\n",
       "      <td>-0.976264</td>\n",
       "    </tr>\n",
       "    <tr>\n",
       "      <th>4</th>\n",
       "      <td>0.0</td>\n",
       "      <td>1.124259</td>\n",
       "      <td>-1.414214</td>\n",
       "      <td>-1.414214</td>\n",
       "      <td>1.295589</td>\n",
       "      <td>-0.352333</td>\n",
       "      <td>2.157441</td>\n",
       "      <td>-1.099818</td>\n",
       "      <td>-1.287020</td>\n",
       "      <td>1.297139</td>\n",
       "      <td>1.293802</td>\n",
       "    </tr>\n",
       "  </tbody>\n",
       "</table>\n",
       "</div>"
      ],
      "text/plain": [
       "   DATE     COUNT  ACT-COUNT    WEIGHT     STREN        TM        LL  \\\n",
       "0   0.0  1.124259  -1.414214 -1.414214 -0.975976  0.334026  1.541182   \n",
       "1   0.0  1.124259  -1.414214 -1.414214 -1.940037  0.639074  1.950932   \n",
       "2   0.0  1.124259  -1.414214 -1.414214  1.953164 -0.542989  1.654835   \n",
       "3   0.0  1.124259  -1.414214 -1.414214 -0.975976  0.334026  2.118261   \n",
       "4   0.0  1.124259  -1.414214 -1.414214  1.295589 -0.352333  2.157441   \n",
       "\n",
       "        CPI       WPI         L         W  \n",
       "0 -1.097852  0.975999 -0.975503 -0.976264  \n",
       "1 -1.096988  1.981780 -1.928919 -1.950891  \n",
       "2 -1.100370 -1.915625  1.961819  1.944216  \n",
       "3 -1.097852  0.975999 -0.975503 -0.976264  \n",
       "4 -1.099818 -1.287020  1.297139  1.293802  "
      ]
     },
     "execution_count": 42,
     "metadata": {},
     "output_type": "execute_result"
    }
   ],
   "source": [
    "data = pd.DataFrame(x_data, columns=features)\n",
    "data.head()"
   ]
  }
 ],
 "metadata": {
  "anaconda-cloud": {},
  "kernelspec": {
   "display_name": "Python [conda env:py3]",
   "language": "python",
   "name": "conda-env-py3-py"
  },
  "language_info": {
   "codemirror_mode": {
    "name": "ipython",
    "version": 3
   },
   "file_extension": ".py",
   "mimetype": "text/x-python",
   "name": "python",
   "nbconvert_exporter": "python",
   "pygments_lexer": "ipython3",
   "version": "3.5.2"
  }
 },
 "nbformat": 4,
 "nbformat_minor": 2
}
